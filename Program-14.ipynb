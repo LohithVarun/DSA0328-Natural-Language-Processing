{
  "nbformat": 4,
  "nbformat_minor": 0,
  "metadata": {
    "colab": {
      "provenance": [],
      "authorship_tag": "ABX9TyNYJE7S1jeonk/0gddD5tfJ",
      "include_colab_link": true
    },
    "kernelspec": {
      "name": "python3",
      "display_name": "Python 3"
    },
    "language_info": {
      "name": "python"
    }
  },
  "cells": [
    {
      "cell_type": "markdown",
      "metadata": {
        "id": "view-in-github",
        "colab_type": "text"
      },
      "source": [
        "<a href=\"https://colab.research.google.com/github/LohithVarun/DSA0328-Natural-Language-Processing/blob/main/Program-14.ipynb\" target=\"_parent\"><img src=\"https://colab.research.google.com/assets/colab-badge.svg\" alt=\"Open In Colab\"/></a>"
      ]
    },
    {
      "cell_type": "code",
      "execution_count": 2,
      "metadata": {
        "colab": {
          "base_uri": "https://localhost:8080/"
        },
        "id": "GetyByGSfq8Z",
        "outputId": "b2fad954-b09c-4369-c672-2ca08e5579a5"
      },
      "outputs": [
        {
          "output_type": "stream",
          "name": "stdout",
          "text": [
            "'the dog chases the cat': Correct agreement\n",
            "'the dogs chase the cat': Correct agreement\n",
            "'the dog chase the cat': Incorrect agreement: subject-verb mismatch\n",
            "'the dogs chases the cat': Incorrect agreement: subject-verb mismatch\n"
          ]
        }
      ],
      "source": [
        "import re\n",
        "\n",
        "CFG = {\n",
        "    \"S\": [[\"NP\", \"VP\"]],\n",
        "    \"NP\": [[\"DET\", \"N\"]],\n",
        "    \"VP\": [[\"V\", \"NP\"], [\"V\"]],\n",
        "    \"DET\": [\"the\"],\n",
        "    \"N\": {\"singular\": [\"dog\", \"cat\", \"boy\"], \"plural\": [\"dogs\", \"cats\", \"boys\"]},\n",
        "    \"V\": {\"singular\": [\"chases\", \"sees\", \"likes\"], \"plural\": [\"chase\", \"see\", \"like\"]}\n",
        "}\n",
        "\n",
        "def get_number(word, category):\n",
        "    \"\"\"Returns whether the word is singular or plural based on the CFG.\"\"\"\n",
        "    for num, words in CFG[category].items():\n",
        "        if word in words:\n",
        "            return num\n",
        "    return None\n",
        "\n",
        "def check_agreement(sentence):\n",
        "    \"\"\"Checks if the sentence follows the agreement rules of the CFG.\"\"\"\n",
        "    words = sentence.lower().split()\n",
        "    if len(words) < 2:\n",
        "        return \"Invalid sentence structure\"\n",
        "\n",
        "    if words[0] in CFG[\"DET\"] and len(words) > 1:\n",
        "        noun = words[1]\n",
        "        noun_number = get_number(noun, \"N\")\n",
        "\n",
        "        if not noun_number:\n",
        "            return \"Invalid noun\"\n",
        "\n",
        "        if len(words) > 2:\n",
        "            verb = words[2]\n",
        "            verb_number = get_number(verb, \"V\")\n",
        "\n",
        "            if not verb_number:\n",
        "                return \"Invalid verb\"\n",
        "\n",
        "            if noun_number == verb_number:\n",
        "                return \"Correct agreement\"\n",
        "            else:\n",
        "                return \"Incorrect agreement: subject-verb mismatch\"\n",
        "\n",
        "    return \"Invalid sentence structure\"\n",
        "\n",
        "\n",
        "sentences = [\n",
        "    \"the dog chases the cat\",\n",
        "    \"the dogs chase the cat\",\n",
        "    \"the dog chase the cat\",\n",
        "    \"the dogs chases the cat\"\n",
        "]\n",
        "\n",
        "for sentence in sentences:\n",
        "    print(f\"'{sentence}': {check_agreement(sentence)}\")\n"
      ]
    }
  ]
}